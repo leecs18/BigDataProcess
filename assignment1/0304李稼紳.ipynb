{
  "nbformat": 4,
  "nbformat_minor": 0,
  "metadata": {
    "colab": {
      "provenance": []
    },
    "kernelspec": {
      "name": "python3",
      "display_name": "Python 3"
    },
    "language_info": {
      "name": "python"
    }
  },
  "cells": [
    {
      "cell_type": "code",
      "execution_count": null,
      "metadata": {
        "colab": {
          "base_uri": "https://localhost:8080/"
        },
        "id": "sLNyEMYfWlNn",
        "outputId": "f02913c1-30aa-4951-bf48-ec55579ab805"
      },
      "outputs": [
        {
          "output_type": "stream",
          "name": "stdout",
          "text": [
            "Python\"李稼紳\n",
            "Python'李稼紳\n",
            "Python\\李稼紳\n",
            "Python\t李稼紳\n",
            "Python\n",
            "李稼紳\n"
          ]
        }
      ],
      "source": [
        "print('Python\\\"李稼紳')\n",
        "print('Python\\'李稼紳')\n",
        "print('Python\\\\李稼紳')\n",
        "print('Python\\t李稼紳')\n",
        "print('Python\\n李稼紳')"
      ]
    },
    {
      "cell_type": "code",
      "source": [
        "s=input()\n",
        "print(s)"
      ],
      "metadata": {
        "colab": {
          "base_uri": "https://localhost:8080/"
        },
        "id": "EdsdcuwzW5W3",
        "outputId": "8082835c-3df7-425c-c7b4-91fc6212f5de"
      },
      "execution_count": null,
      "outputs": [
        {
          "output_type": "stream",
          "name": "stdout",
          "text": [
            "李稼紳\n",
            "李稼紳\n"
          ]
        }
      ]
    },
    {
      "cell_type": "code",
      "source": [
        "a=input('Enter a number:')\n",
        "print(a)"
      ],
      "metadata": {
        "colab": {
          "base_uri": "https://localhost:8080/"
        },
        "id": "PN4rYCN7YnFh",
        "outputId": "9544df2d-c1b6-4285-8faf-0a194385568e"
      },
      "execution_count": null,
      "outputs": [
        {
          "output_type": "stream",
          "name": "stdout",
          "text": [
            "Enter a number:18\n",
            "18\n"
          ]
        }
      ]
    },
    {
      "cell_type": "code",
      "source": [
        "a=eval(input('Enter a number:'))\n",
        "a=a + 100\n",
        "print(a)"
      ],
      "metadata": {
        "colab": {
          "base_uri": "https://localhost:8080/"
        },
        "id": "Yg7zBFs7Y1Eg",
        "outputId": "9c4a3472-fa7a-4a1a-bc3a-02bb173b3500"
      },
      "execution_count": null,
      "outputs": [
        {
          "output_type": "stream",
          "name": "stdout",
          "text": [
            "Enter a number:18\n",
            "118\n"
          ]
        }
      ]
    },
    {
      "cell_type": "code",
      "source": [
        "a=int(input(\"Enter a number:\"))\n",
        "a=a + 10\n",
        "print(a)"
      ],
      "metadata": {
        "colab": {
          "base_uri": "https://localhost:8080/"
        },
        "id": "mfdevmjJZQsx",
        "outputId": "efe8cb88-632d-47ce-95d7-10ba22294976"
      },
      "execution_count": null,
      "outputs": [
        {
          "output_type": "stream",
          "name": "stdout",
          "text": [
            "Enter a number:18\n",
            "28\n"
          ]
        }
      ]
    },
    {
      "cell_type": "code",
      "source": [
        "a,b=eval(input('Enter two number:'))\n",
        "print('a = %d,b =%d'%(a,b))"
      ],
      "metadata": {
        "colab": {
          "base_uri": "https://localhost:8080/"
        },
        "id": "7bJqpQSSZx4Z",
        "outputId": "bdf35111-a7ba-4f52-ea6a-2508060854b3"
      },
      "execution_count": null,
      "outputs": [
        {
          "output_type": "stream",
          "name": "stdout",
          "text": [
            "Enter two number:8,18\n",
            "a = 8,b =18\n"
          ]
        }
      ]
    },
    {
      "cell_type": "code",
      "source": [
        "a=18\n",
        "b=a/3\n",
        "print(b)\n",
        "c=a//3\n",
        "print(c)\n",
        "f=a%3\n",
        "print(f)\n",
        "d=a**2\n",
        "print(d)\n",
        "e=a**0.5\n",
        "print(e)"
      ],
      "metadata": {
        "colab": {
          "base_uri": "https://localhost:8080/"
        },
        "id": "IkmE8iZKaMRy",
        "outputId": "1c8c1bf4-667e-491e-bf83-e503269efbfd"
      },
      "execution_count": null,
      "outputs": [
        {
          "output_type": "stream",
          "name": "stdout",
          "text": [
            "6.0\n",
            "6\n",
            "0\n",
            "324\n",
            "4.242640687119285\n"
          ]
        }
      ]
    },
    {
      "cell_type": "code",
      "source": [
        "a=a+100\n",
        "a+=100"
      ],
      "metadata": {
        "id": "xcYZcSTNapSa"
      },
      "execution_count": null,
      "outputs": []
    },
    {
      "cell_type": "code",
      "source": [
        "a,b,c,d,e,f,g=eval(input('Enter seven number:'))\n",
        "a+=2\n",
        "b-=2\n",
        "c*=2\n",
        "d/=2\n",
        "e//=2\n",
        "f%=2\n",
        "g**=2\n",
        "print(a,b,c,d,e,f,g)"
      ],
      "metadata": {
        "colab": {
          "base_uri": "https://localhost:8080/"
        },
        "id": "ti4r7b6eb6Xj",
        "outputId": "2199f2c2-3b2e-4ef9-f45b-f091f7304a48"
      },
      "execution_count": null,
      "outputs": [
        {
          "output_type": "stream",
          "name": "stdout",
          "text": [
            "Enter seven number:18,18,18,18,18,18,18\n",
            "20 16 36 9.0 9 0 324\n"
          ]
        }
      ]
    },
    {
      "cell_type": "code",
      "source": [
        "r=18\n",
        "area=3.14159* r **2\n",
        "perimeter=2*3014159*r\n",
        "print(\"area:\", area)\n",
        "print(\"perimeter:\", perimeter)"
      ],
      "metadata": {
        "colab": {
          "base_uri": "https://localhost:8080/"
        },
        "id": "XxzfKK5ja6gC",
        "outputId": "5b5a22b4-8357-4103-fbcd-7f06adfde483"
      },
      "execution_count": null,
      "outputs": [
        {
          "output_type": "stream",
          "name": "stdout",
          "text": [
            "area: 1017.8751599999999\n",
            "perimeter: 108509724\n"
          ]
        }
      ]
    },
    {
      "cell_type": "code",
      "source": [
        "import math\n",
        "math.pi"
      ],
      "metadata": {
        "colab": {
          "base_uri": "https://localhost:8080/"
        },
        "id": "_woHQIlrgHEp",
        "outputId": "0fe06442-b883-4a12-b886-e944b6ee1951"
      },
      "execution_count": null,
      "outputs": [
        {
          "output_type": "execute_result",
          "data": {
            "text/plain": [
              "3.141592653589793"
            ]
          },
          "metadata": {},
          "execution_count": 44
        }
      ]
    },
    {
      "cell_type": "code",
      "source": [
        "import math\n",
        "math.e"
      ],
      "metadata": {
        "colab": {
          "base_uri": "https://localhost:8080/"
        },
        "id": "_gcyWuglgjdb",
        "outputId": "a5af936a-36ec-4d0b-ae63-f86f8c5bf7c8"
      },
      "execution_count": null,
      "outputs": [
        {
          "output_type": "execute_result",
          "data": {
            "text/plain": [
              "2.718281828459045"
            ]
          },
          "metadata": {},
          "execution_count": 45
        }
      ]
    },
    {
      "cell_type": "code",
      "source": [
        "import math\n",
        "area=math.pi*r**2\n",
        "perimeter=2*math.pi*r\n",
        "print(\"area:\", area)\n",
        "print(\"perimeter:\", perimeter)"
      ],
      "metadata": {
        "colab": {
          "base_uri": "https://localhost:8080/"
        },
        "id": "qQfEe4yKgnAR",
        "outputId": "76de3003-3238-4107-dfd7-8abf7ceb7dba"
      },
      "execution_count": null,
      "outputs": [
        {
          "output_type": "stream",
          "name": "stdout",
          "text": [
            "area: 1017.8760197630929\n",
            "perimeter: 113.09733552923255\n"
          ]
        }
      ]
    },
    {
      "cell_type": "code",
      "source": [
        "import math\n",
        "a=math.sin(0)\n",
        "b=math.sin(math.pi/2)\n",
        "c=math.cos(math.pi/2)\n",
        "d=math.cos(0)\n",
        "print(a,b,c,d)"
      ],
      "metadata": {
        "colab": {
          "base_uri": "https://localhost:8080/"
        },
        "id": "X1LbspZQhG6D",
        "outputId": "347f1d6f-b01d-4c7f-bf2d-aabb90811e22"
      },
      "execution_count": null,
      "outputs": [
        {
          "output_type": "stream",
          "name": "stdout",
          "text": [
            "0.0 1.0 6.123233995736766e-17 1.0\n"
          ]
        }
      ]
    },
    {
      "cell_type": "code",
      "source": [
        "import math\n",
        "s=6.5\n",
        "area=(5*s**2)/(4*math.tan(math.pi/5))\n",
        "print(area)"
      ],
      "metadata": {
        "colab": {
          "base_uri": "https://localhost:8080/"
        },
        "id": "k6bz4bIYigWO",
        "outputId": "ab6bd605-a997-46e5-f771-04d8812ce17b"
      },
      "execution_count": null,
      "outputs": [
        {
          "output_type": "stream",
          "name": "stdout",
          "text": [
            "72.69017017488385\n"
          ]
        }
      ]
    },
    {
      "cell_type": "code",
      "source": [
        "import math\n",
        "s=6.5\n",
        "n=18\n",
        "area=(n*s**2)/(4*math.tan(math.pi/n))\n",
        "print(area)"
      ],
      "metadata": {
        "colab": {
          "base_uri": "https://localhost:8080/"
        },
        "id": "3mZdNMPKipWm",
        "outputId": "cc6311ff-8043-4ef0-8833-5e45d38548b5"
      },
      "execution_count": null,
      "outputs": [
        {
          "output_type": "stream",
          "name": "stdout",
          "text": [
            "1078.252455954817\n"
          ]
        }
      ]
    },
    {
      "cell_type": "code",
      "source": [
        "a=abs(-100)\n",
        "b=max(22,33,11,88,99,66)\n",
        "c=min(22,33,11,88,99,66)\n",
        "d=pow(2,10)\n",
        "e=round(5.6)\n",
        "f=round(5.2)\n",
        "g=round(4.6)\n",
        "h=round(4.5)\n",
        "print(a,b,c,d,e,f,g,h)"
      ],
      "metadata": {
        "colab": {
          "base_uri": "https://localhost:8080/"
        },
        "id": "GdH7pBWezEnr",
        "outputId": "b4faef7f-7be5-49e4-8fe9-99beb00fefe3"
      },
      "execution_count": null,
      "outputs": [
        {
          "output_type": "stream",
          "name": "stdout",
          "text": [
            "100 99 11 1024 6 5 5 4\n"
          ]
        }
      ]
    },
    {
      "cell_type": "code",
      "source": [
        "a=round(123.456,2)\n",
        "b=round(123.456,1)\n",
        "print(a,b)"
      ],
      "metadata": {
        "colab": {
          "base_uri": "https://localhost:8080/"
        },
        "id": "LEFw6GDLz_G_",
        "outputId": "1c777753-8a4a-4891-b16a-4ea47effd64b"
      },
      "execution_count": null,
      "outputs": [
        {
          "output_type": "stream",
          "name": "stdout",
          "text": [
            "123.46 123.5\n"
          ]
        }
      ]
    }
  ]
}