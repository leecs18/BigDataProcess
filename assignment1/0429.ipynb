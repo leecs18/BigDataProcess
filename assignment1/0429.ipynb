{
  "nbformat": 4,
  "nbformat_minor": 0,
  "metadata": {
    "colab": {
      "provenance": []
    },
    "kernelspec": {
      "name": "python3",
      "display_name": "Python 3"
    },
    "language_info": {
      "name": "python"
    }
  },
  "cells": [
    {
      "cell_type": "code",
      "source": [
        "import random\n",
        "for i in range(1,11):\n",
        "  randNum = random.randint(1,100)\n",
        "  print('%4d'%(randNum),end = ' ')"
      ],
      "metadata": {
        "colab": {
          "base_uri": "https://localhost:8080/"
        },
        "id": "ishDLjT917Yx",
        "outputId": "23594ba3-8c23-4bee-ce78-2cf3006d710d"
      },
      "execution_count": 6,
      "outputs": [
        {
          "output_type": "stream",
          "name": "stdout",
          "text": [
            "  56   74   96   67   59   78   45   63   59   56 "
          ]
        }
      ]
    },
    {
      "cell_type": "code",
      "source": [
        "import random\n",
        "even = 0\n",
        "odd = 0\n",
        "for i in range(1,11):\n",
        "  randNum = random.randint(1,100)\n",
        "  print(randNum,end=' ')\n",
        "  if randNum % 2 == 0:\n",
        "    even += 1\n",
        "  else:\n",
        "    odd += 1\n",
        "print('\\neven = %d,odd = %d'%(even,odd))"
      ],
      "metadata": {
        "colab": {
          "base_uri": "https://localhost:8080/"
        },
        "id": "Zmkv_ZXs2QxI",
        "outputId": "f9e75629-c4df-40f5-a629-2600ce34a38a"
      },
      "execution_count": 7,
      "outputs": [
        {
          "output_type": "stream",
          "name": "stdout",
          "text": [
            "46 80 56 1 25 40 15 95 59 43 \n",
            "even = 4,odd = 6\n"
          ]
        }
      ]
    }
  ]
}