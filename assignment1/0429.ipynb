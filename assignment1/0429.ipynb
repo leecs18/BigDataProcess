{
  "nbformat": 4,
  "nbformat_minor": 0,
  "metadata": {
    "colab": {
      "provenance": []
    },
    "kernelspec": {
      "name": "python3",
      "display_name": "Python 3"
    },
    "language_info": {
      "name": "python"
    }
  },
  "cells": [
    {
      "cell_type": "code",
      "source": [
        "import random\n",
        "for i in range(1,11):\n",
        "  randNum = random.randint(1,100)\n",
        "  print('%4d'%(randNum),end = ' ')"
      ],
      "metadata": {
        "colab": {
          "base_uri": "https://localhost:8080/"
        },
        "id": "ishDLjT917Yx",
        "outputId": "23594ba3-8c23-4bee-ce78-2cf3006d710d"
      },
      "execution_count": 6,
      "outputs": [
        {
          "output_type": "stream",
          "name": "stdout",
          "text": [
            "  56   74   96   67   59   78   45   63   59   56 "
          ]
        }
      ]
    },
    {
      "cell_type": "code",
      "source": [
        "import random\n",
        "even = 0\n",
        "odd = 0\n",
        "for i in range(1,11):\n",
        "  randNum = random.randint(1,100)\n",
        "  print(randNum,end=' ')\n",
        "  if randNum % 2 == 0:\n",
        "    even += 1\n",
        "  else:\n",
        "    odd += 1\n",
        "print('\\neven = %d,odd = %d'%(even,odd))"
      ],
      "metadata": {
        "colab": {
          "base_uri": "https://localhost:8080/"
        },
        "id": "Zmkv_ZXs2QxI",
        "outputId": "f9e75629-c4df-40f5-a629-2600ce34a38a"
      },
      "execution_count": 7,
      "outputs": [
        {
          "output_type": "stream",
          "name": "stdout",
          "text": [
            "46 80 56 1 25 40 15 95 59 43 \n",
            "even = 4,odd = 6\n"
          ]
        }
      ]
    },
    {
      "cell_type": "code",
      "source": [
        "#version 1\n",
        "import random\n",
        "times3 = 0\n",
        "times5 = 0\n",
        "times7 = 0\n",
        "others = 0\n",
        "for i in range(1,101):\n",
        "  flag = False\n",
        "  randNum = random.randint(1,100)\n",
        "  print(randNum,end = ' ')\n",
        "  if randNum % 3 == 0:\n",
        "    times3 += 1\n",
        "    flag = True\n",
        "  if randNum % 5 == 0:\n",
        "    times5 += 1\n",
        "    flag = True\n",
        "  if randNum % 7 == 0:\n",
        "    times7 += 1\n",
        "    flag = True\n",
        "  if flag == False:\n",
        "    others += 1\n",
        "print('\\ntimes3 = %d, times5 = %d, times7 = %d'%(times3,times5,times7))\n",
        "print('others = %d'%(others))"
      ],
      "metadata": {
        "colab": {
          "base_uri": "https://localhost:8080/"
        },
        "id": "l7RzVDEm7FIx",
        "outputId": "9ae50740-8121-407c-d2d8-a614d77b425e"
      },
      "execution_count": 8,
      "outputs": [
        {
          "output_type": "stream",
          "name": "stdout",
          "text": [
            "30 65 5 67 46 13 39 93 66 82 25 71 61 2 30 86 24 1 28 75 57 5 76 18 31 86 70 23 74 88 92 30 11 10 17 88 93 11 44 3 3 27 78 94 21 84 75 90 41 85 78 62 76 47 58 62 22 84 21 3 19 76 73 93 24 33 7 44 61 75 74 9 49 71 87 96 92 70 71 4 59 59 84 84 2 91 63 7 25 79 24 47 58 77 49 100 50 91 75 81 \n",
            "times3 = 36, times5 = 19, times7 = 17\n",
            "others = 45\n"
          ]
        }
      ]
    }
  ]
}