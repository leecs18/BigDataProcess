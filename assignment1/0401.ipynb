{
  "nbformat": 4,
  "nbformat_minor": 0,
  "metadata": {
    "colab": {
      "provenance": []
    },
    "kernelspec": {
      "name": "python3",
      "display_name": "Python 3"
    },
    "language_info": {
      "name": "python"
    }
  },
  "cells": [
    {
      "cell_type": "code",
      "execution_count": null,
      "metadata": {
        "colab": {
          "base_uri": "https://localhost:8080/"
        },
        "id": "R16b1ciadoFj",
        "outputId": "463a6f20-669b-45f6-ee27-88414ed8ee5e"
      },
      "outputs": [
        {
          "output_type": "stream",
          "name": "stdout",
          "text": [
            "18 6 90 14 61 96 22 48 59 3 \n",
            " even = 7,odd = 3\n"
          ]
        }
      ],
      "source": [
        "import random\n",
        "even = 0\n",
        "odd = 0\n",
        "for i in range(1,11):\n",
        "  randNum = random.randint(1,100)\n",
        "  print(randNum,end = ' ')\n",
        "  if randNum % 2 == 0:\n",
        "    even += 1\n",
        "  else:\n",
        "    odd += 1\n",
        "print('\\neven = %d,odd = %d'%(even,odd))"
      ]
    },
    {
      "cell_type": "code",
      "source": [
        "#Version 1\n",
        "import random\n",
        "times3=0\n",
        "times5=0\n",
        "times7=0\n",
        "others=0\n",
        "for i in range(1,101):\n",
        "  flag=False\n",
        "  randNum=random.randint(1,100)\n",
        "  print(randNum,end=' ')\n",
        "  if randNum%3==0:\n",
        "    times3+=1\n",
        "    flag=True\n",
        "  if randNum%5==0:\n",
        "    times5+=1\n",
        "    flag=True\n",
        "  if randNum%7==0:\n",
        "    times7+=1\n",
        "    flag=True\n",
        "  if flag==False:\n",
        "    others+=1\n",
        "print('\\ntimes3=%d,times5=%d,times7=%d'%(times3,times5,times7))\n",
        "print('others=%d'%(others))"
      ],
      "metadata": {
        "colab": {
          "base_uri": "https://localhost:8080/"
        },
        "id": "6zwcbBs2Rr7J",
        "outputId": "e2617e18-fa9b-4f34-bcf1-d0347492b115"
      },
      "execution_count": null,
      "outputs": [
        {
          "output_type": "stream",
          "name": "stdout",
          "text": [
            "82 49 62 95 24 62 51 37 80 28 79 7 10 97 83 73 70 25 27 33 77 22 33 21 29 56 5 71 32 20 77 81 79 18 50 9 38 22 55 34 67 34 9 4 23 70 12 38 29 45 94 28 31 56 7 2 86 19 79 13 41 71 55 64 58 3 37 84 100 13 61 5 6 55 23 5 6 36 32 91 22 41 74 28 6 63 81 89 84 2 20 74 4 92 42 32 29 45 97 72 \n",
            "times3=24,times5=18,times7=18\n",
            "others=49\n"
          ]
        }
      ]
    },
    {
      "cell_type": "code",
      "source": [
        "import random\n",
        "count=1\n",
        "for i in range(1,101):\n",
        "  randNum=random.randint(1,100)\n",
        "  if count%10!=0:\n",
        "    print('%5d'%(randNum),end=' ')\n",
        "  else:\n",
        "    print('%5d'%(randNum))\n",
        "  count+=1"
      ],
      "metadata": {
        "colab": {
          "base_uri": "https://localhost:8080/"
        },
        "id": "U_qTsnmQTRtl",
        "outputId": "c0cd1bbc-cc28-4642-eaa6-a384c63a5d1e"
      },
      "execution_count": null,
      "outputs": [
        {
          "output_type": "stream",
          "name": "stdout",
          "text": [
            "   86    98    48    41    99    48    35    54     9    59\n",
            "   32    88    85    61    68    38    77    41    31    56\n",
            "   83    54     9    32    98    47     5    43    80    95\n",
            "  100    93    72     8    88    21    41    12    28    52\n",
            "   33    75    35     3    37    81    30    69    52    97\n",
            "   23    89    79    74    96    28    37    13     3    85\n",
            "   59    85    78    34    95    92    67    57    40    24\n",
            "   68    28    58    34    48    33    46    40    49    26\n",
            "   17    30    80    81    67    40    69    34    23    89\n",
            "   77    50    61    68    55    12    14    58    88    18\n"
          ]
        }
      ]
    }
  ]
}