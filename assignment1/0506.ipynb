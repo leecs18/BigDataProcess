{
  "nbformat": 4,
  "nbformat_minor": 0,
  "metadata": {
    "colab": {
      "provenance": []
    },
    "kernelspec": {
      "name": "python3",
      "display_name": "Python 3"
    },
    "language_info": {
      "name": "python"
    }
  },
  "cells": [
    {
      "cell_type": "code",
      "execution_count": 1,
      "metadata": {
        "colab": {
          "base_uri": "https://localhost:8080/"
        },
        "id": "yCst1aLg4z-9",
        "outputId": "b56bf3cd-5161-490f-f779-928d99540161"
      },
      "outputs": [
        {
          "output_type": "stream",
          "name": "stdout",
          "text": [
            "96 +58 = 12\n",
            "Wrong answer, try again.\n",
            "96 +58 = 51\n",
            "Wrong answer, try again.\n",
            "96 +58 = 154\n",
            "Correct,you are very good.\n",
            "Over\n"
          ]
        }
      ],
      "source": [
        "import random\n",
        "n1 = random.randint(1,100)\n",
        "n2 = random.randint(1,100)\n",
        "while True:\n",
        "  solution = n1 + n2\n",
        "  answer = eval(input('%d +%d = '%(n1,n2)))\n",
        "  if answer == solution:\n",
        "    print('Correct,you are very good.')\n",
        "    break\n",
        "  else:\n",
        "    print('Wrong answer, try again.')\n",
        "print('Over')"
      ]
    },
    {
      "cell_type": "code",
      "source": [
        "total = 0\n",
        "number = 1\n",
        "while number <=15:\n",
        "  if number % 5 == 0:\n",
        "    number += 1\n",
        "    continue\n",
        "  print('%3d'%(number),end = ' ')\n",
        "  total += number\n",
        "  number += 1\n",
        "\n",
        "print('\\ntotal = %d'%(total))"
      ],
      "metadata": {
        "colab": {
          "base_uri": "https://localhost:8080/"
        },
        "id": "rFbPbDpK5uqr",
        "outputId": "d4d719bc-f85b-4bf0-c511-c359558f68e4"
      },
      "execution_count": 3,
      "outputs": [
        {
          "output_type": "stream",
          "name": "stdout",
          "text": [
            "  1   2   3   4   6   7   8   9  11  12  13  14 \n",
            "total = 90\n"
          ]
        }
      ]
    }
  ]
}