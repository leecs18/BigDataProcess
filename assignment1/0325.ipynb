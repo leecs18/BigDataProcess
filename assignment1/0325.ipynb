{
  "nbformat": 4,
  "nbformat_minor": 0,
  "metadata": {
    "colab": {
      "provenance": []
    },
    "kernelspec": {
      "name": "python3",
      "display_name": "Python 3"
    },
    "language_info": {
      "name": "python"
    }
  },
  "cells": [
    {
      "cell_type": "code",
      "execution_count": null,
      "metadata": {
        "colab": {
          "base_uri": "https://localhost:8080/"
        },
        "id": "7wGJi8kXoZw4",
        "outputId": "842c3cef-8c6a-456d-8a8d-11ec03eee83f"
      },
      "outputs": [
        {
          "output_type": "stream",
          "name": "stdout",
          "text": [
            "total= 5050\n"
          ]
        }
      ],
      "source": [
        "i=1\n",
        "total=0\n",
        "while i <=100:\n",
        "  total += i\n",
        "  i += 1\n",
        "print('total=',total)"
      ]
    },
    {
      "cell_type": "code",
      "source": [
        "i=2\n",
        "total=0\n",
        "while i <=100:\n",
        "  total += i\n",
        "  i += 1\n",
        "print('total=',total)"
      ],
      "metadata": {
        "colab": {
          "base_uri": "https://localhost:8080/"
        },
        "id": "MePq6zPio1og",
        "outputId": "13e5a55e-d909-451e-8fad-0ddabcf1e58c"
      },
      "execution_count": null,
      "outputs": [
        {
          "output_type": "stream",
          "name": "stdout",
          "text": [
            "total= 5049\n"
          ]
        }
      ]
    },
    {
      "cell_type": "code",
      "source": [
        "i=1\n",
        "total=0\n",
        "while i <=100:\n",
        "  total += i\n",
        "  i += 2\n",
        "print('total=',total)"
      ],
      "metadata": {
        "colab": {
          "base_uri": "https://localhost:8080/"
        },
        "id": "NVsM8sR0o77p",
        "outputId": "5077bc86-06d7-4628-f53c-af46a1f37498"
      },
      "execution_count": null,
      "outputs": [
        {
          "output_type": "stream",
          "name": "stdout",
          "text": [
            "total= 2500\n"
          ]
        }
      ]
    },
    {
      "cell_type": "code",
      "source": [
        "total=0\n",
        "for i in range(1,101):\n",
        "  total+=i\n",
        "print('total = ',total)"
      ],
      "metadata": {
        "colab": {
          "base_uri": "https://localhost:8080/"
        },
        "id": "tb4vzuT8pNhJ",
        "outputId": "755cb615-510f-4baa-a5ad-32cf62625b1b"
      },
      "execution_count": null,
      "outputs": [
        {
          "output_type": "stream",
          "name": "stdout",
          "text": [
            "total =  5050\n"
          ]
        }
      ]
    },
    {
      "cell_type": "code",
      "source": [
        "total=0\n",
        "for i in range(2,101):\n",
        "  total += i\n",
        "print('total=',total)"
      ],
      "metadata": {
        "colab": {
          "base_uri": "https://localhost:8080/"
        },
        "id": "qozUbLRKpg6i",
        "outputId": "5be7666b-c09f-4662-8b6e-0bbd62d0f76f"
      },
      "execution_count": null,
      "outputs": [
        {
          "output_type": "stream",
          "name": "stdout",
          "text": [
            "total= 5049\n"
          ]
        }
      ]
    },
    {
      "cell_type": "code",
      "source": [
        "total=0\n",
        "for i in range(1,101):\n",
        "  total += i\n",
        "print('total=',total)"
      ],
      "metadata": {
        "colab": {
          "base_uri": "https://localhost:8080/"
        },
        "id": "lbO31Fgip4Qz",
        "outputId": "961b626f-8a51-473d-bc19-7fba50682346"
      },
      "execution_count": null,
      "outputs": [
        {
          "output_type": "stream",
          "name": "stdout",
          "text": [
            "total= 5050\n"
          ]
        }
      ]
    },
    {
      "cell_type": "code",
      "source": [
        "#9*9 multiple table\n",
        "#version 1\n",
        "for x in range(1,10):\n",
        "  for y in range(1,10):\n",
        "    print('%d*%d=%2d')"
      ],
      "metadata": {
        "id": "PBimMRhrDX-5"
      },
      "execution_count": null,
      "outputs": []
    }
  ]
}