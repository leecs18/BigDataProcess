{
  "nbformat": 4,
  "nbformat_minor": 0,
  "metadata": {
    "colab": {
      "provenance": []
    },
    "kernelspec": {
      "name": "python3",
      "display_name": "Python 3"
    },
    "language_info": {
      "name": "python"
    }
  },
  "cells": [
    {
      "cell_type": "code",
      "execution_count": null,
      "metadata": {
        "colab": {
          "base_uri": "https://localhost:8080/"
        },
        "id": "ugdNxeUjVIq4",
        "outputId": "3f726fdc-30ea-470b-8228-e9fba7dcc2cb"
      },
      "outputs": [
        {
          "output_type": "stream",
          "name": "stdout",
          "text": [
            "1.5,-3.4\n",
            "4.6,5\n",
            "9.5,-3.4\n",
            "The area of the triangle = 33.60\n"
          ]
        }
      ],
      "source": [
        "#範例12 1-41\n",
        "import math\n",
        "x1,y1 = eval(input())\n",
        "x2,y2 = eval(input())\n",
        "x3,y3 = eval(input())\n",
        "\n",
        "side1 = math.sqrt((x2-x1)**2+(y2-y1)**2)\n",
        "side2 = math.sqrt((x3-x1)**2+(y3-y1)**2)\n",
        "side3 = math.sqrt((x3-x2)**2+(y3-y2)**2)\n",
        "\n",
        "s = (side1 + side2 + side3)/2\n",
        "area = math.sqrt((s*(s-side1)*(s-side2)*(s-side3)))\n",
        "print('The area of the triangle = %.2f'%(area))"
      ]
    },
    {
      "cell_type": "code",
      "source": [
        "#範例6 2-24\n",
        "score = eval(input())\n",
        "\n",
        "if 80 <= score <= 100:\n",
        "  grade = 'A'\n",
        "elif 70 <= score <=79:\n",
        "  grade = 'B'\n",
        "elif 60 <= score <=69:\n",
        "  grade = 'C'\n",
        "elif score <= 59:\n",
        "  grade = 'F'\n",
        "\n",
        "print(grade)"
      ],
      "metadata": {
        "colab": {
          "base_uri": "https://localhost:8080/"
        },
        "id": "9y2h-x13XXad",
        "outputId": "cf10c086-3a84-4739-b8c2-bb0251b5ecba"
      },
      "execution_count": null,
      "outputs": [
        {
          "output_type": "stream",
          "name": "stdout",
          "text": [
            "79\n",
            "B\n"
          ]
        }
      ]
    },
    {
      "cell_type": "code",
      "source": [
        "#範例9 2-30\n",
        "x = eval(input())\n",
        "y = eval(input())\n",
        "dist = ((x-5)**2 + (y-6)**2)**0.5\n",
        "\n",
        "if dist <= 15:\n",
        "  print(\"Inside\")\n",
        "else:\n",
        "  print(\"Outside\")"
      ],
      "metadata": {
        "colab": {
          "base_uri": "https://localhost:8080/"
        },
        "id": "wiHGrU6_YQVc",
        "outputId": "50be774b-8e11-4dd5-8eab-bc323ff74700"
      },
      "execution_count": null,
      "outputs": [
        {
          "output_type": "stream",
          "name": "stdout",
          "text": [
            "30\n",
            "35\n",
            "Outside\n"
          ]
        }
      ]
    },
    {
      "cell_type": "code",
      "source": [
        "#範例13 2-36\n",
        "a,b,c = eval(input('Enter a,b,c: '))\n",
        "d,e,f = eval(input('Enter d,e,f: '))\n",
        "\n",
        "if a*e - b*d == 0:\n",
        "  if c*e - b*f == 0 and a*f - c*d == 0:\n",
        "    print('有無限多組解')\n",
        "  else:\n",
        "    print('無解')\n",
        "else:\n",
        "  x = (c*e - b*f)/(a*e - b*d)\n",
        "  y = (a*f - c*d)/(a*e - b*d)\n",
        "  print('x is %.2f,y = %.2f'%(x,y))"
      ],
      "metadata": {
        "colab": {
          "base_uri": "https://localhost:8080/"
        },
        "id": "9yHAduw2ZLZ2",
        "outputId": "a1c11cdc-023a-4d03-9180-71af5334cb5e"
      },
      "execution_count": null,
      "outputs": [
        {
          "output_type": "stream",
          "name": "stdout",
          "text": [
            "Enter a,b,c: 9,4,-6\n",
            "Enter d,e,f: 3,-5,-21\n",
            "x is -2.00,y = 3.00\n"
          ]
        }
      ]
    },
    {
      "cell_type": "code",
      "source": [
        "#範例15 2-39\n",
        "num1,num2,num3 = eval(input(\"Enter three integers:\"))\n",
        "if num1 > num2:\n",
        "  num1,num2 = num2,num1\n",
        "\n",
        "if num2 > num3:\n",
        "  num2,num3 = num3,num2\n",
        "\n",
        "if num1 > num2:\n",
        "  num1,num2 = num2,num1\n",
        "\n",
        "print(\"The sorted numbers are\",num1,num2,num3)"
      ],
      "metadata": {
        "colab": {
          "base_uri": "https://localhost:8080/"
        },
        "id": "Z4GFvUIYa1Mp",
        "outputId": "9eddf45d-12bc-4d69-af31-820984332f63"
      },
      "execution_count": null,
      "outputs": [
        {
          "output_type": "stream",
          "name": "stdout",
          "text": [
            "Enter three integers:8,6,1\n",
            "The sorted numbers are 1 6 8\n"
          ]
        }
      ]
    },
    {
      "cell_type": "code",
      "source": [
        "#範例10 3-27\n",
        "n = eval(input())\n",
        "sum_series = 0\n",
        "\n",
        "for i in range(2,n+1):\n",
        "  sum_series += 1 / ((i-1)**0.5 + i**0.5)\n",
        "print(\"%.4f\"% sum_series)"
      ],
      "metadata": {
        "colab": {
          "base_uri": "https://localhost:8080/"
        },
        "id": "5QIi7r8jbqTd",
        "outputId": "3b49d9c9-a7fb-4a24-f086-638d45a642b3"
      },
      "execution_count": null,
      "outputs": [
        {
          "output_type": "stream",
          "name": "stdout",
          "text": [
            "8\n",
            "1.8284\n"
          ]
        }
      ]
    },
    {
      "cell_type": "code",
      "source": [
        "#範例15 3-33\n",
        "n = eval(input())\n",
        "total = 0\n",
        "for i in range(n,0,-1):\n",
        "  total += 1.0/i\n",
        "print('1/n + 1/(n-1) + 1(n-2) +...+ 1 = ',total)"
      ],
      "metadata": {
        "colab": {
          "base_uri": "https://localhost:8080/"
        },
        "id": "QjNhywA8ck9c",
        "outputId": "e2e6e5bc-c80c-401a-a46b-5a1935833c4f"
      },
      "execution_count": null,
      "outputs": [
        {
          "output_type": "stream",
          "name": "stdout",
          "text": [
            "50000\n",
            "1/n + 1/(n-1) + 1(n-2) +...+ 1 =  11.397003949278519\n"
          ]
        }
      ]
    },
    {
      "cell_type": "code",
      "source": [
        "#問題3 3-35\n",
        "a = int(input())\n",
        "b = int(input())\n",
        "\n",
        "total_sum = 0\n",
        "\n",
        "for num in range(a,b+1):\n",
        "  if num % 2 == 0:\n",
        "    total_sum += num\n",
        "\n",
        "print(\"total=\", total_sum)"
      ],
      "metadata": {
        "colab": {
          "base_uri": "https://localhost:8080/"
        },
        "id": "e9D8HdBDdRoJ",
        "outputId": "db4de521-e689-436c-f20c-c637b2c3498b"
      },
      "execution_count": null,
      "outputs": [
        {
          "output_type": "stream",
          "name": "stdout",
          "text": [
            "1\n",
            "100\n",
            "total= 2550\n"
          ]
        }
      ]
    },
    {
      "cell_type": "code",
      "source": [
        "#9x9乘法表\n",
        "for i in range(1, 10):\n",
        "    row = ''\n",
        "    for j in range(1, 10):\n",
        "        row += f\"{i} x {j} = {i*j}\\t\"\n",
        "    print(row)"
      ],
      "metadata": {
        "colab": {
          "base_uri": "https://localhost:8080/"
        },
        "id": "ICdw44LCe4qn",
        "outputId": "5a24c556-d566-4138-f5f1-af26d7f470ce"
      },
      "execution_count": null,
      "outputs": [
        {
          "output_type": "stream",
          "name": "stdout",
          "text": [
            "1 x 1 = 1\t1 x 2 = 2\t1 x 3 = 3\t1 x 4 = 4\t1 x 5 = 5\t1 x 6 = 6\t1 x 7 = 7\t1 x 8 = 8\t1 x 9 = 9\t\n",
            "2 x 1 = 2\t2 x 2 = 4\t2 x 3 = 6\t2 x 4 = 8\t2 x 5 = 10\t2 x 6 = 12\t2 x 7 = 14\t2 x 8 = 16\t2 x 9 = 18\t\n",
            "3 x 1 = 3\t3 x 2 = 6\t3 x 3 = 9\t3 x 4 = 12\t3 x 5 = 15\t3 x 6 = 18\t3 x 7 = 21\t3 x 8 = 24\t3 x 9 = 27\t\n",
            "4 x 1 = 4\t4 x 2 = 8\t4 x 3 = 12\t4 x 4 = 16\t4 x 5 = 20\t4 x 6 = 24\t4 x 7 = 28\t4 x 8 = 32\t4 x 9 = 36\t\n",
            "5 x 1 = 5\t5 x 2 = 10\t5 x 3 = 15\t5 x 4 = 20\t5 x 5 = 25\t5 x 6 = 30\t5 x 7 = 35\t5 x 8 = 40\t5 x 9 = 45\t\n",
            "6 x 1 = 6\t6 x 2 = 12\t6 x 3 = 18\t6 x 4 = 24\t6 x 5 = 30\t6 x 6 = 36\t6 x 7 = 42\t6 x 8 = 48\t6 x 9 = 54\t\n",
            "7 x 1 = 7\t7 x 2 = 14\t7 x 3 = 21\t7 x 4 = 28\t7 x 5 = 35\t7 x 6 = 42\t7 x 7 = 49\t7 x 8 = 56\t7 x 9 = 63\t\n",
            "8 x 1 = 8\t8 x 2 = 16\t8 x 3 = 24\t8 x 4 = 32\t8 x 5 = 40\t8 x 6 = 48\t8 x 7 = 56\t8 x 8 = 64\t8 x 9 = 72\t\n",
            "9 x 1 = 9\t9 x 2 = 18\t9 x 3 = 27\t9 x 4 = 36\t9 x 5 = 45\t9 x 6 = 54\t9 x 7 = 63\t9 x 8 = 72\t9 x 9 = 81\t\n"
          ]
        }
      ]
    }
  ]
}