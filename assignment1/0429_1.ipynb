{
  "nbformat": 4,
  "nbformat_minor": 0,
  "metadata": {
    "colab": {
      "provenance": []
    },
    "kernelspec": {
      "name": "python3",
      "display_name": "Python 3"
    },
    "language_info": {
      "name": "python"
    }
  },
  "cells": [
    {
      "cell_type": "code",
      "execution_count": 3,
      "metadata": {
        "colab": {
          "base_uri": "https://localhost:8080/"
        },
        "id": "XPp01Dp0XorB",
        "outputId": "60b87827-dd12-473a-d16f-355f413d70da"
      },
      "outputs": [
        {
          "output_type": "stream",
          "name": "stdout",
          "text": [
            "   63     7    56    61    64    48    39    25    90    23\n",
            "   91     8    55    24    43    96    38    24    58    25\n",
            "   93    33     7    45    95    33    71    53    45    71\n",
            "   58    92    15    66    23    11    82    19    88    11\n",
            "   73    16    49    64    94    32    76    27    97    54\n",
            "   22    20    33    94    50    68    51    95     6    25\n",
            "   36    22    82    66    34    34    20    58    95    94\n",
            "   18    80    24    34    73    53    20    44    92    28\n",
            "   80    91    89     5    44    77    30    35    99    72\n",
            "   27     1    26    18    19    89    92   100    83    38\n"
          ]
        }
      ],
      "source": [
        "import random\n",
        "count = 1\n",
        "for i in range(1,101):\n",
        "  randNum = random.randint(1,100)\n",
        "  if count % 10 != 0:\n",
        "    print('%5d'%(randNum),end = ' ')\n",
        "  else:\n",
        "    print('%5d'%(randNum))\n",
        "  count += 1"
      ]
    },
    {
      "cell_type": "code",
      "source": [
        "#Version 2\n",
        "import random\n",
        "times3 = 0\n",
        "times5 = 0\n",
        "times7 = 0\n",
        "others = 0\n",
        "count = 1\n",
        "for i in range(1,101):\n",
        "  flag = False\n",
        "  randNum = random.randint(1,100)\n",
        "  if count%10 != 0:\n",
        "    print('%5d'%(randNum),end = ' ')\n",
        "  else:\n",
        "    print('%5d'%(randNum))\n",
        "  count += 1\n",
        "  #Calculate times3,times5,and times7\n",
        "  if randNum % 3 == 0:\n",
        "    times3 += 1\n",
        "  if randNum % 5 == 0:\n",
        "    times5 += 1\n",
        "  if randNum % 7 == 0:\n",
        "    times7 += 1\n",
        "  if flag == False:\n",
        "    others += 1\n",
        "print('\\ntimes = %d, times5 = %d, times7 = %d'%(times3,times5,times7))\n",
        "print('others = %d'%(others))"
      ],
      "metadata": {
        "colab": {
          "base_uri": "https://localhost:8080/"
        },
        "id": "4YuJ8cNdYjER",
        "outputId": "63ab8de7-03c3-46c4-d058-7a100a4c9b41"
      },
      "execution_count": 7,
      "outputs": [
        {
          "output_type": "stream",
          "name": "stdout",
          "text": [
            "   35    21    72    55    36    77    48    12    69    92\n",
            "   24    11    95    21    14    37    30     4    92    83\n",
            "   80    87    51    84    28    24    14    41    35    78\n",
            "   39    93    21    92    53    93    56    34    61    39\n",
            "   22    20    98    71    67    10     5     1    41    76\n",
            "   73    77    29    46     1    67    34    88    55    55\n",
            "   19   100    58    20    12    57    34    73    92    55\n",
            "   32    87    14    69    71    95    83    69     2    72\n",
            "   85    80    28    29     2    27    24    95    94    44\n",
            "   24    44    22    14    88    86    44    23    47    22\n",
            "\n",
            "times = 28, times5 = 18, times7 = 16\n",
            "others = 100\n"
          ]
        }
      ]
    },
    {
      "cell_type": "code",
      "source": [
        "import random\n",
        "count = 1\n",
        "while count <= 12:\n",
        "  for i in range(1,6):\n",
        "    randNum = random.randint(1,49)\n",
        "    print('%3d'%(randNum),end = ' ')\n",
        "  print()\n",
        "  count += 1\n",
        "print('Over')"
      ],
      "metadata": {
        "colab": {
          "base_uri": "https://localhost:8080/"
        },
        "id": "B505Ji6jaO0k",
        "outputId": "cb56ac83-093a-42c4-971c-97a3142d01e5"
      },
      "execution_count": 9,
      "outputs": [
        {
          "output_type": "stream",
          "name": "stdout",
          "text": [
            " 26  15   3  38   4 \n",
            " 42   4  40  19  49 \n",
            " 11  33   3  25  35 \n",
            " 16   6  20   5  13 \n",
            " 12  49   7  44  24 \n",
            " 20  39  40  39  48 \n",
            " 16  43  43  48  34 \n",
            " 26   4  12  34  16 \n",
            " 10  18  20  36  28 \n",
            " 36   5  43  41   3 \n",
            " 40  23  16  42  26 \n",
            " 20  20  43  40   7 \n",
            "Over\n"
          ]
        }
      ]
    },
    {
      "cell_type": "code",
      "source": [
        "import random\n",
        "again = 'yes'\n",
        "while again == 'yes':\n",
        "  for i in range(1,7):\n",
        "    randNum = random.randint(1,49)\n",
        "    print('%3d'%(randNum),end = ' ')\n",
        "  print()\n",
        "  again = (input('continue:yes or quit:no---->'))\n",
        "print('Over')"
      ],
      "metadata": {
        "colab": {
          "base_uri": "https://localhost:8080/"
        },
        "id": "iIazy_EXdfQs",
        "outputId": "b9b0e239-5283-4bd8-cf66-80d61fec3a9b"
      },
      "execution_count": 12,
      "outputs": [
        {
          "output_type": "stream",
          "name": "stdout",
          "text": [
            "  6  21  34  23   2   3 \n",
            "continue:yes or quit:no---->yes\n",
            " 36  10  13  29  16  13 \n",
            "continue:yes or quit:no---->no\n",
            "Over\n"
          ]
        }
      ]
    },
    {
      "cell_type": "code",
      "source": [
        "import random\n",
        "again = 1\n",
        "while again == 1:\n",
        "  for i in range(1,7):\n",
        "    randNum = random.randint(1,49)\n",
        "    print('%3d'%(randNum),end = ' ')\n",
        "  print()\n",
        "  again = eval(input('continue:1 or quit:0---->'))\n",
        "print('Over')"
      ],
      "metadata": {
        "colab": {
          "base_uri": "https://localhost:8080/"
        },
        "id": "VXRFAv5Kk6gp",
        "outputId": "7f21f374-51ab-4609-8555-c25909e6b99b"
      },
      "execution_count": 13,
      "outputs": [
        {
          "output_type": "stream",
          "name": "stdout",
          "text": [
            "  4  15  20   8  23  19 \n",
            "continue:1 or quit:0---->1\n",
            " 39   8  25  18  26  12 \n",
            "continue:1 or quit:0---->1\n",
            " 33   9  24  15   4  27 \n",
            "continue:1 or quit:0---->0\n",
            "Over\n"
          ]
        }
      ]
    }
  ]
}