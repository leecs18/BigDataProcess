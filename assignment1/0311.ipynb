{
  "nbformat": 4,
  "nbformat_minor": 0,
  "metadata": {
    "colab": {
      "provenance": []
    },
    "kernelspec": {
      "name": "python3",
      "display_name": "Python 3"
    },
    "language_info": {
      "name": "python"
    }
  },
  "cells": [
    {
      "cell_type": "code",
      "execution_count": null,
      "metadata": {
        "colab": {
          "base_uri": "https://localhost:8080/"
        },
        "id": "wwcaYFCvnIRV",
        "outputId": "6609c135-98c9-4de3-f56b-c08b4187b8c2"
      },
      "outputs": [
        {
          "output_type": "stream",
          "name": "stdout",
          "text": [
            "Enter a number:1\n",
            "1 is greater than 0\n",
            "Over\n"
          ]
        }
      ],
      "source": [
        "a=eval(input('Enter a number:'))\n",
        "if a > 0:\n",
        "  print(a,'is greater than 0')\n",
        "else:\n",
        "  print(a,'is less than 0')\n",
        "print('Over')"
      ]
    },
    {
      "cell_type": "code",
      "source": [
        "a,b,c=eval(input('Enter a,b,c:'))\n",
        "d=b*b-4*a*c\n",
        "\n",
        "if d > 0:\n",
        "  print('Has two different solutions')\n",
        "elif d == 0:\n",
        "  print('Has one solution')\n",
        "else:\n",
        "  print('No solution')\n",
        "print('Over')"
      ],
      "metadata": {
        "colab": {
          "base_uri": "https://localhost:8080/"
        },
        "id": "BcQl7nOYogYD",
        "outputId": "659f99f6-e278-45e8-d1e8-fe16fb214f66"
      },
      "execution_count": null,
      "outputs": [
        {
          "output_type": "stream",
          "name": "stdout",
          "text": [
            "Enter a,b,c:1,2,3\n",
            "No solution\n",
            "Over\n"
          ]
        }
      ]
    },
    {
      "cell_type": "code",
      "source": [
        "if a > 0:\n",
        "  print(a,'is greater than 0')\n",
        "elif a > 0:\n",
        "  print(a,'is less than 0')\n",
        "else:\n",
        "  print(a,'is equal to 0')\n",
        "print('Over')"
      ],
      "metadata": {
        "colab": {
          "base_uri": "https://localhost:8080/"
        },
        "id": "hxzHUroipEAk",
        "outputId": "4cfbc560-21a3-456e-a952-a80471b2f3c7"
      },
      "execution_count": null,
      "outputs": [
        {
          "output_type": "stream",
          "name": "stdout",
          "text": [
            "1 is greater than 0\n",
            "Over\n"
          ]
        }
      ]
    },
    {
      "cell_type": "code",
      "source": [
        "height = eval(input('Enter height in centimeters:'))\n",
        "weight = eval(input('Enter weight in kilograms:'))\n",
        "\n",
        "bmi = weight/(height/100)**2\n",
        "print('Your BMI is %6.2f'%(bmi))\n",
        "\n",
        "if bmi < 18.5:\n",
        "  print('Underweight')\n",
        "elif bmi < 25.0:\n",
        "  print('Normal')\n",
        "elif bmi < 30:\n",
        "  print('Overweight')\n",
        "else:\n",
        "  print('Obese')"
      ],
      "metadata": {
        "colab": {
          "base_uri": "https://localhost:8080/"
        },
        "id": "Jb1eaAZSpfDn",
        "outputId": "9d18ffcd-672a-44bd-9de0-61a1b44dc6f8"
      },
      "execution_count": null,
      "outputs": [
        {
          "output_type": "stream",
          "name": "stdout",
          "text": [
            "Enter height in centimeters:170\n",
            "Enter weight in kilograms:58\n",
            "Your BMI is  20.07\n",
            "Normal\n"
          ]
        }
      ]
    },
    {
      "cell_type": "code",
      "source": [
        "num=eval(input('Enter a number:'))\n",
        "if(85<=num) and (num<=95):\n",
        "  print('%d is in the between 85 and 95'%(num))\n",
        "else:\n",
        "  print('%d is not in the between 85 and 95'%(num))\n",
        "\n",
        "print('Over')"
      ],
      "metadata": {
        "colab": {
          "base_uri": "https://localhost:8080/"
        },
        "id": "qjD_m88FDYO7",
        "outputId": "b73bf54c-8bc6-4ced-be60-ca6fc8ed5bae"
      },
      "execution_count": null,
      "outputs": [
        {
          "output_type": "stream",
          "name": "stdout",
          "text": [
            "Enter a number:100\n",
            "100 is not in the between 85 and 95\n",
            "Over\n"
          ]
        }
      ]
    }
  ]
}