{
  "nbformat": 4,
  "nbformat_minor": 0,
  "metadata": {
    "colab": {
      "provenance": []
    },
    "kernelspec": {
      "name": "python3",
      "display_name": "Python 3"
    },
    "language_info": {
      "name": "python"
    }
  },
  "cells": [
    {
      "cell_type": "code",
      "execution_count": 1,
      "metadata": {
        "id": "wlWC7UG6C7jf",
        "colab": {
          "base_uri": "https://localhost:8080/"
        },
        "outputId": "4ea97519-bbfa-4300-fe91-5e32edbfe565"
      },
      "outputs": [
        {
          "output_type": "stream",
          "name": "stdout",
          "text": [
            "* * * * * * * * * * * * * * * * * * * * \n",
            "* * * * * * * * * * * * * * * * * * * * * * * * * * * * * * \n",
            "* * * * * * * * * * * * * * * * * * * * * * * * * * * * * * * * * * * * * * * * * * * * * * * * * * \n"
          ]
        }
      ],
      "source": [
        "for i in range(1,21):\n",
        "  print('*',end = ' ')\n",
        "print()\n",
        "\n",
        "for i in range(1,31):\n",
        "  print('*',end = ' ')\n",
        "print()\n",
        "\n",
        "for i in range(1,51):\n",
        "  print('*',end = ' ')\n",
        "print()"
      ]
    },
    {
      "cell_type": "code",
      "source": [
        "def printStar(n):\n",
        "  for i in range(1,n+1):\n",
        "    print('*',end = ' ')\n",
        "  print()\n",
        "\n",
        "def main():\n",
        "  printStar(20)\n",
        "  printStar(30)\n",
        "  printStar(50)\n",
        "\n",
        "main()"
      ],
      "metadata": {
        "colab": {
          "base_uri": "https://localhost:8080/"
        },
        "id": "Prw3MENSfS_r",
        "outputId": "054f03fd-e3dc-46d3-e56b-c894030b1952"
      },
      "execution_count": 2,
      "outputs": [
        {
          "output_type": "stream",
          "name": "stdout",
          "text": [
            "* * * * * * * * * * * * * * * * * * * * \n",
            "* * * * * * * * * * * * * * * * * * * * * * * * * * * * * * \n",
            "* * * * * * * * * * * * * * * * * * * * * * * * * * * * * * * * * * * * * * * * * * * * * * * * * * \n"
          ]
        }
      ]
    },
    {
      "cell_type": "code",
      "source": [
        "def total():\n",
        "  sum = 0\n",
        "  for i in range(1,101):\n",
        "    sum += i\n",
        "  print('summation of 1 to 100:',sum)\n",
        "\n",
        "def main():\n",
        "  total()\n",
        "\n",
        "main()"
      ],
      "metadata": {
        "colab": {
          "base_uri": "https://localhost:8080/"
        },
        "id": "NU3twGi_ft0C",
        "outputId": "7ad157f4-c1f9-4694-a514-765a69da638f"
      },
      "execution_count": 3,
      "outputs": [
        {
          "output_type": "stream",
          "name": "stdout",
          "text": [
            "summation of 1 to 100: 5050\n"
          ]
        }
      ]
    },
    {
      "cell_type": "code",
      "source": [
        "def total():\n",
        "  sum = 0\n",
        "  for i in range(1,101):\n",
        "    sum += i\n",
        "  return sum\n",
        "\n",
        "def main():\n",
        "  t = total()\n",
        "  print('summation of 1 to 100:',t)\n",
        "\n",
        "main()"
      ],
      "metadata": {
        "colab": {
          "base_uri": "https://localhost:8080/"
        },
        "id": "UifgP4l3oy8o",
        "outputId": "b61f7222-b375-4467-edb3-ee7ef8bf87ba"
      },
      "execution_count": 9,
      "outputs": [
        {
          "output_type": "stream",
          "name": "stdout",
          "text": [
            "summation of 1 to 100: 5050\n"
          ]
        }
      ]
    },
    {
      "cell_type": "code",
      "source": [
        "def total(a,b):\n",
        "  sum = 0\n",
        "  for i in range(a,b+1):\n",
        "    sum += i\n",
        "  return sum\n",
        "\n",
        "def main():\n",
        "  x = eval(input('Enter start number: '))\n",
        "  y = eval(input('Enter end number: '))\n",
        "  t = total(x,y)\n",
        "  print('summation of %d to %d: %d'%(x,y,t))\n",
        "\n",
        "main()"
      ],
      "metadata": {
        "colab": {
          "base_uri": "https://localhost:8080/"
        },
        "id": "Px3Vig1mgEuk",
        "outputId": "0ba45046-c8b8-447f-9574-0ff284fc5901"
      },
      "execution_count": 5,
      "outputs": [
        {
          "output_type": "stream",
          "name": "stdout",
          "text": [
            "Enter start number: 1\n",
            "Enter end number: 101\n",
            "summation of 1 to 101: 5151\n"
          ]
        }
      ]
    }
  ]
}