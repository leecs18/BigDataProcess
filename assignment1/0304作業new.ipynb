{
  "nbformat": 4,
  "nbformat_minor": 0,
  "metadata": {
    "colab": {
      "provenance": []
    },
    "kernelspec": {
      "name": "python3",
      "display_name": "Python 3"
    },
    "language_info": {
      "name": "python"
    }
  },
  "cells": [
    {
      "cell_type": "code",
      "execution_count": null,
      "metadata": {
        "colab": {
          "base_uri": "https://localhost:8080/"
        },
        "id": "_j6W37_eKwgs",
        "outputId": "53df4456-1424-425e-c4ba-fce1c3ae35c7"
      },
      "outputs": [
        {
          "output_type": "stream",
          "name": "stdout",
          "text": [
            "    100.00\n",
            "    212.00\n"
          ]
        }
      ],
      "source": [
        "f=212\n",
        "c=(f-32)*5/9\n",
        "print(format(c,'10.2f'))\n",
        "print(format(f,'10.2f'))"
      ]
    },
    {
      "cell_type": "code",
      "source": [
        "import math\n",
        "r=5.5\n",
        "s=2*r*math.sin(math.pi/5)\n",
        "area=(5*s**2)/(4*math.tan(math.pi/5))\n",
        "a=round(area,2)\n",
        "print(a)"
      ],
      "metadata": {
        "colab": {
          "base_uri": "https://localhost:8080/"
        },
        "id": "opMwgtIPMklx",
        "outputId": "f00d784d-328e-4cb9-d89d-966b968e94f8"
      },
      "execution_count": null,
      "outputs": [
        {
          "output_type": "stream",
          "name": "stdout",
          "text": [
            "71.92\n"
          ]
        }
      ]
    },
    {
      "cell_type": "code",
      "source": [
        "a=4.3\n",
        "v=70\n",
        "length=(v**2)/(2*a)\n",
        "print(length)\n",
        "l=round(length,2)\n",
        "print(l)"
      ],
      "metadata": {
        "colab": {
          "base_uri": "https://localhost:8080/"
        },
        "id": "wmMEocZHNO2s",
        "outputId": "6dddc97b-e8a9-4d4d-af58-e53a1af6e257"
      },
      "execution_count": null,
      "outputs": [
        {
          "output_type": "stream",
          "name": "stdout",
          "text": [
            "569.7674418604652\n",
            "569.77\n"
          ]
        }
      ]
    },
    {
      "cell_type": "code",
      "source": [
        "m=10\n",
        "f=100\n",
        "i=12\n",
        "q=m*(f-i)*4184\n",
        "print(format(q,'10.2f'))"
      ],
      "metadata": {
        "colab": {
          "base_uri": "https://localhost:8080/"
        },
        "id": "ErAa-RnKOWtv",
        "outputId": "97893107-f654-4be5-92d9-8b58a331e203"
      },
      "execution_count": null,
      "outputs": [
        {
          "output_type": "stream",
          "name": "stdout",
          "text": [
            "3681920.00\n"
          ]
        }
      ]
    },
    {
      "cell_type": "code",
      "source": [
        "import math\n",
        "r=6.5\n",
        "height=10\n",
        "area=math.pi*r**2\n",
        "volume=area*height\n",
        "area2=round(area,2)\n",
        "volume2=round(volume,2)\n",
        "print('area:',area2,'volume:',volume2)"
      ],
      "metadata": {
        "colab": {
          "base_uri": "https://localhost:8080/"
        },
        "id": "96JXcHPJPVVZ",
        "outputId": "b0aeb664-3e7d-449b-8474-331d62c599a1"
      },
      "execution_count": null,
      "outputs": [
        {
          "output_type": "stream",
          "name": "stdout",
          "text": [
            "area: 132.73 volume: 1327.32\n"
          ]
        }
      ]
    }
  ]
}