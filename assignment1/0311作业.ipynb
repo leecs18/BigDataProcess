{
  "nbformat": 4,
  "nbformat_minor": 0,
  "metadata": {
    "colab": {
      "provenance": []
    },
    "kernelspec": {
      "name": "python3",
      "display_name": "Python 3"
    },
    "language_info": {
      "name": "python"
    }
  },
  "cells": [
    {
      "cell_type": "code",
      "execution_count": null,
      "metadata": {
        "colab": {
          "base_uri": "https://localhost:8080/"
        },
        "id": "UeKkuV-dIVRJ",
        "outputId": "5f8a1e35-213f-456c-f443-c1c3f25fbc98"
      },
      "outputs": [
        {
          "output_type": "stream",
          "name": "stdout",
          "text": [
            "56\n",
            "56 is an even number.\n",
            "Over\n"
          ]
        }
      ],
      "source": [
        "a=int(input())\n",
        "\n",
        "if a%2==0:\n",
        "  print(\"%d is an even number.\"%a)\n",
        "else:\n",
        "  print(\"%d is not an even number.\"%a)\n",
        "\n",
        "print('Over')"
      ]
    },
    {
      "cell_type": "code",
      "source": [
        "a=int(input())\n",
        "\n",
        "if(a%3==0)and(a%5==0):\n",
        "  print(\"%d ia a multiple of 3 and 5.\"%a)\n",
        "elif a%3==0:\n",
        "  print(\"%d ia a multiple of 3.\"%a)\n",
        "elif a%5==0:\n",
        "  print(\"%d ia a multiple of 5.\"%a)\n",
        "else:\n",
        "  print(\"%d ia not a multiple of 3 or 5.\"%a)\n",
        "\n",
        "print('Over')"
      ],
      "metadata": {
        "colab": {
          "base_uri": "https://localhost:8080/"
        },
        "id": "Jo_kNb2zI6pe",
        "outputId": "6099f1f9-d6be-4183-c2ce-eb46c4fa2f4a"
      },
      "execution_count": null,
      "outputs": [
        {
          "output_type": "stream",
          "name": "stdout",
          "text": [
            "15\n",
            "15 ia a multiple of 3 and 5.\n",
            "Over\n"
          ]
        }
      ]
    },
    {
      "cell_type": "code",
      "source": [
        "year=int(input())\n",
        "\n",
        "if year%400==0 or (year%4==0 and year%100!=0):\n",
        "  print(year,\"is a leap year.\")\n",
        "else:\n",
        "  print(year,\"is not a leap year.\")\n",
        "\n",
        "print('Over')"
      ],
      "metadata": {
        "colab": {
          "base_uri": "https://localhost:8080/"
        },
        "id": "Q3ZsonHMKIdy",
        "outputId": "c5f1b6d1-526e-4fe7-e38a-ddcab452b570"
      },
      "execution_count": null,
      "outputs": [
        {
          "output_type": "stream",
          "name": "stdout",
          "text": [
            "2010\n",
            "2010 is not a leap year.\n",
            "Over\n"
          ]
        }
      ]
    },
    {
      "cell_type": "code",
      "source": [
        "a=eval(input())\n",
        "b=eval(input())\n",
        "opr=input()\n",
        "ans=0\n",
        "\n",
        "if opr=='+': ans=a+b\n",
        "elif opr=='-':ans=a-b\n",
        "elif opr=='*':ans=a*b\n",
        "elif opr=='/':ans=a/b\n",
        "elif opr=='//':ans=a//b\n",
        "elif opr=='%':ans=a%b\n",
        "\n",
        "print(ans)\n",
        "print('Over')"
      ],
      "metadata": {
        "colab": {
          "base_uri": "https://localhost:8080/"
        },
        "id": "YWflHoByKsyb",
        "outputId": "7db590ea-4766-4318-fa84-30fa98c64cd0"
      },
      "execution_count": null,
      "outputs": [
        {
          "output_type": "stream",
          "name": "stdout",
          "text": [
            "30\n",
            "20\n",
            "*\n",
            "600\n",
            "Over\n"
          ]
        }
      ]
    },
    {
      "cell_type": "code",
      "source": [
        "c=input()\n",
        "\n",
        "if('a'<= c <='z')or('A'<= c <='Z'):\n",
        "  print(c,\"is an alphabet.\")\n",
        "elif('0'<= c <='9'):\n",
        "  print(c,\"is a number.\")\n",
        "else:\n",
        "  print(c,\"is asymbol\")\n",
        "\n",
        "print('Over')"
      ],
      "metadata": {
        "colab": {
          "base_uri": "https://localhost:8080/"
        },
        "id": "tGBq85hBLa4l",
        "outputId": "88fd25ae-92a7-483d-e2c1-42bc242f0fb9"
      },
      "execution_count": null,
      "outputs": [
        {
          "output_type": "stream",
          "name": "stdout",
          "text": [
            "100\n",
            "100 is a number.\n",
            "Over\n"
          ]
        }
      ]
    },
    {
      "cell_type": "code",
      "source": [
        "score=eval(input())\n",
        "\n",
        "if 80<=score<=100:\n",
        "  grade='A'\n",
        "elif 70<=score<=79:\n",
        "  grade='B'\n",
        "elif 60<=score<=69:\n",
        "  grade='C'\n",
        "elif score<=59:\n",
        "  grade='F'\n",
        "\n",
        "print(grade)\n",
        "print('Over')"
      ],
      "metadata": {
        "colab": {
          "base_uri": "https://localhost:8080/"
        },
        "id": "K85d1B2sMVyI",
        "outputId": "6670b36b-ac60-4226-940a-cdcdbe15865b"
      },
      "execution_count": null,
      "outputs": [
        {
          "output_type": "stream",
          "name": "stdout",
          "text": [
            "79\n",
            "B\n",
            "Over\n"
          ]
        }
      ]
    },
    {
      "cell_type": "code",
      "source": [
        "cost=eval(input())\n",
        "\n",
        "if cost>=38000:\n",
        "  pay=cost*0.7\n",
        "elif cost>=28000:\n",
        "  pay=cost*0.8\n",
        "elif cost>=18000:\n",
        "  pay=cost*0.9\n",
        "elif cost>=8000:\n",
        "  pay=cost*0.95\n",
        "\n",
        "print(pay)\n",
        "print('Over')"
      ],
      "metadata": {
        "colab": {
          "base_uri": "https://localhost:8080/"
        },
        "id": "McF6ESoUM7ri",
        "outputId": "2986209d-c4be-4d45-aa5c-2534caa64553"
      },
      "execution_count": null,
      "outputs": [
        {
          "output_type": "stream",
          "name": "stdout",
          "text": [
            "12000\n",
            "11400.0\n",
            "Over\n"
          ]
        }
      ]
    },
    {
      "cell_type": "code",
      "source": [
        "num=eval(input())\n",
        "\n",
        "if 0 <= num <=9: hex_num = num\n",
        "elif num == 10: hex_num='A'\n",
        "elif num == 11: hex_num='B'\n",
        "elif num == 12: hex_num='C'\n",
        "elif num == 13: hex_num='D'\n",
        "elif num == 14: hex_num='E'\n",
        "elif num == 15: hex_num='F'\n",
        "\n",
        "print(hex_num)\n",
        "print('Over')"
      ],
      "metadata": {
        "colab": {
          "base_uri": "https://localhost:8080/"
        },
        "id": "VVcZ1sy8Nroz",
        "outputId": "6a33e53f-f426-4e71-aeae-d2e25ffe0dae"
      },
      "execution_count": null,
      "outputs": [
        {
          "output_type": "stream",
          "name": "stdout",
          "text": [
            "8\n",
            "8\n",
            "Over\n"
          ]
        }
      ]
    },
    {
      "cell_type": "code",
      "source": [
        "x=eval(input())\n",
        "y=eval(input())\n",
        "dist=((x-5)**2+(y-6)**2)**0.5\n",
        "\n",
        "if dist <= 15:\n",
        "  print(\"Inside\")\n",
        "else:\n",
        "  print(\"Outside\")\n",
        "\n",
        "print('Over')"
      ],
      "metadata": {
        "colab": {
          "base_uri": "https://localhost:8080/"
        },
        "id": "Di0Rhyz_ObqV",
        "outputId": "5d2e05e3-cacd-469d-edb3-265d96b5fbdd"
      },
      "execution_count": null,
      "outputs": [
        {
          "output_type": "stream",
          "name": "stdout",
          "text": [
            "30\n",
            "35\n",
            "Outside\n",
            "Over\n"
          ]
        }
      ]
    },
    {
      "cell_type": "code",
      "source": [
        "side1=eval(input())\n",
        "side2=eval(input())\n",
        "side3=eval(input())\n",
        "\n",
        "if side1+side2 > side3 \\\n",
        "  and side2+side3 > side1 \\\n",
        "  and side1+side3 > side2:\n",
        "   print(side1+side2+side3)\n",
        "else:\n",
        "  print(\"Invalid\")\n",
        "\n",
        "print('Over')"
      ],
      "metadata": {
        "colab": {
          "base_uri": "https://localhost:8080/"
        },
        "id": "XP-MALoXO8j2",
        "outputId": "a8b2d97f-f58c-49b6-ceb4-d975a1526d03"
      },
      "execution_count": null,
      "outputs": [
        {
          "output_type": "stream",
          "name": "stdout",
          "text": [
            "1\n",
            "1\n",
            "1\n",
            "3\n",
            "Over\n"
          ]
        }
      ]
    },
    {
      "cell_type": "code",
      "source": [
        "x1,y1 = eval(input())\n",
        "if abs(x1) <= 8/2 and abs(y1) <= 6/2:\n",
        "  print('(%d,%d)is inside of the rectangle'%(x1,y1))\n",
        "else:\n",
        "  print('(%d,%d)is outside of the rectangle'%(x1,y1))\n",
        "\n",
        "print('Over')"
      ],
      "metadata": {
        "colab": {
          "base_uri": "https://localhost:8080/"
        },
        "id": "K03QI5yiP1Yq",
        "outputId": "a302353a-78e7-4f99-e420-db569386321e"
      },
      "execution_count": null,
      "outputs": [
        {
          "output_type": "stream",
          "name": "stdout",
          "text": [
            "4,3\n",
            "(4,3)is inside of the rectangle\n",
            "Over\n"
          ]
        }
      ]
    },
    {
      "cell_type": "code",
      "source": [
        "import random\n",
        "num = random.randint(1,100)\n",
        "if num%2==0:\n",
        "  print('%d is even number.'%(num))\n",
        "else:\n",
        "  print('%d is odd number.'%(num))\n",
        "\n",
        "print('Over')"
      ],
      "metadata": {
        "colab": {
          "base_uri": "https://localhost:8080/"
        },
        "id": "5KCNgr8vQvL7",
        "outputId": "1f54b462-368e-415c-fc88-8a013dd3ea3d"
      },
      "execution_count": null,
      "outputs": [
        {
          "output_type": "stream",
          "name": "stdout",
          "text": [
            "93 is odd number.\n",
            "Over\n"
          ]
        }
      ]
    },
    {
      "cell_type": "code",
      "source": [
        "a,b,c=eval(input('Enter a,b,c:'))\n",
        "d,e,f=eval(input('Enter d,e,f:'))\n",
        "\n",
        "if a*e-b*d==0:\n",
        "  if c*e-b*f==0 and a*f-c*d==0:\n",
        "    print('有無限多組解')\n",
        "  else:\n",
        "    print('無解')\n",
        "else:\n",
        "  x=(c*e-b*f)/(a*e-b*d)\n",
        "  y=(a*f-c*d)/(a*e-b*d)\n",
        "  print('x is %.2f,y=%.2f'%(x,y))\n",
        "\n",
        "print('Over')"
      ],
      "metadata": {
        "colab": {
          "base_uri": "https://localhost:8080/"
        },
        "id": "2RSnq3feRact",
        "outputId": "20a9efb9-82f2-42f5-dbe8-7a686a80bc13"
      },
      "execution_count": null,
      "outputs": [
        {
          "output_type": "stream",
          "name": "stdout",
          "text": [
            "Enter a,b,c:9,4,-6\n",
            "Enter d,e,f:3,-5,-21\n",
            "x is -2.00,y=3.00\n",
            "Over\n"
          ]
        }
      ]
    },
    {
      "cell_type": "code",
      "source": [
        "number=eval(input(\"Enter a three-digit integer:\"))\n",
        "reversedNumber=(number%10)*100+(number//10\\\n",
        "                                %10)*10+(number//100)\n",
        "\n",
        "if number==reversedNumber:\n",
        "  print(number,\"is a palindrome number.\")\n",
        "else:\n",
        "  print(number,\"is not a palindrome number.\")\n",
        "\n",
        "print('Over')"
      ],
      "metadata": {
        "colab": {
          "base_uri": "https://localhost:8080/"
        },
        "id": "TinNznyDSldw",
        "outputId": "adf79098-afc3-49c0-ae68-ec6c54662c25"
      },
      "execution_count": null,
      "outputs": [
        {
          "output_type": "stream",
          "name": "stdout",
          "text": [
            "Enter a three-digit integer:122\n",
            "122 is not a palindrome number.\n",
            "Over\n"
          ]
        }
      ]
    },
    {
      "cell_type": "code",
      "source": [
        "num1,num2,num3=eval(input(\"Enter three integers:\"))\n",
        "if num1 > num2:\n",
        "  num1,num2 = num2,num1\n",
        "\n",
        "if num2 > num3:\n",
        "  num2,num3 = num3,num2\n",
        "\n",
        "if num1 > num2:\n",
        "  num1,num2 = num2,num1\n",
        "\n",
        "print('The sorted numbers are',num1,num2,num3)\n",
        "\n",
        "print('Over')"
      ],
      "metadata": {
        "colab": {
          "base_uri": "https://localhost:8080/"
        },
        "id": "AFElzkvFTjHz",
        "outputId": "a8d893c9-7155-45ed-f6f3-b406b24a7590"
      },
      "execution_count": null,
      "outputs": [
        {
          "output_type": "stream",
          "name": "stdout",
          "text": [
            "Enter three integers:8,6,1\n",
            "The sorted numbers are 1 6 8\n",
            "Over\n"
          ]
        }
      ]
    }
  ]
}